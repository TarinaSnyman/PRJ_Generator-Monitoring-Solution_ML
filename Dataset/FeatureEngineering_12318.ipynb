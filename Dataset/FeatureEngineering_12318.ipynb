{
 "cells": [
  {
   "cell_type": "markdown",
   "id": "f9c1d0f9",
   "metadata": {},
   "source": [
    "1. Setup"
   ]
  },
  {
   "cell_type": "code",
   "execution_count": null,
   "id": "b15ba8e6",
   "metadata": {},
   "outputs": [],
   "source": [
    "import pandas as pd\n",
    "import numpy as np\n",
    "import matplotlib.pyplot as plt\n",
    "import seaborn as sns\n",
    "from sklearn.ensemble import IsolationForest\n",
    "from sklearn.mixture import GaussianMixture\n"
   ]
  },
  {
   "cell_type": "code",
   "execution_count": 49,
   "id": "238f0a3a",
   "metadata": {},
   "outputs": [],
   "source": [
    "# Load cleaned dataset \n",
    "df = pd.read_csv(\"air_12318.csv\")\n",
    "df['time'] = pd.to_datetime(df['time'])\n",
    "df = df.sort_values('time')"
   ]
  },
  {
   "cell_type": "code",
   "execution_count": 50,
   "id": "2a53dfaf",
   "metadata": {},
   "outputs": [],
   "source": [
    "# ON/OFF Detection\n",
    "# GMM on log(power)\n",
    "p = df['ptot_W'].clip(lower=0).fillna(0)\n",
    "X = np.log1p(p).values.reshape(-1,1)\n",
    "\n",
    "gmm = GaussianMixture(n_components=2, random_state=42).fit(X)\n",
    "labels = gmm.predict(X)\n",
    "\n",
    "means = gmm.means_.flatten()\n",
    "on_cluster = np.argmax(means)\n",
    "\n",
    "df['is_running_gmm'] = (labels == on_cluster).astype(int)"
   ]
  },
  {
   "cell_type": "code",
   "execution_count": 51,
   "id": "d58becd4",
   "metadata": {},
   "outputs": [],
   "source": [
    "\n",
    "# Cross-check with currents\n",
    "df['any_current'] = df[['ia_A','ib_A','ic_A']].sum(axis=1) > 0.1"
   ]
  },
  {
   "cell_type": "code",
   "execution_count": 52,
   "id": "219c8353",
   "metadata": {},
   "outputs": [
    {
     "name": "stdout",
     "output_type": "stream",
     "text": [
      "ON/OFF split: is_running\n",
      "0    0.872446\n",
      "1    0.127554\n",
      "Name: proportion, dtype: float64\n"
     ]
    }
   ],
   "source": [
    "# Final ON/OFF label\n",
    "df['is_running'] = ((df['is_running_gmm']==1) | df['any_current']).astype(int)\n",
    "\n",
    "print(\"ON/OFF split:\", df['is_running'].value_counts(normalize=True))\n"
   ]
  },
  {
   "cell_type": "code",
   "execution_count": 53,
   "id": "9b8bdb43",
   "metadata": {},
   "outputs": [],
   "source": [
    "#Filter ON cycles\n",
    "df_on = df[df['is_running'] == 1].copy()"
   ]
  },
  {
   "cell_type": "markdown",
   "id": "d4b1a986",
   "metadata": {},
   "source": [
    "2. Feature Engineering"
   ]
  },
  {
   "cell_type": "code",
   "execution_count": 54,
   "id": "af9918ac",
   "metadata": {},
   "outputs": [],
   "source": [
    "# Current imbalance\n",
    "if all(col in df_on.columns for col in ['ia_A','ib_A','ic_A']):\n",
    "    df_on['current_imbalance'] = df_on[['ia_A','ib_A','ic_A']].std(axis=1)"
   ]
  },
  {
   "cell_type": "code",
   "execution_count": 55,
   "id": "e089edda",
   "metadata": {},
   "outputs": [],
   "source": [
    "# Voltage imbalance (if available)\n",
    "voltage_cols = [c for c in df_on.columns if c.lower().startswith('mv')]\n",
    "if len(voltage_cols) >= 3:\n",
    "    df_on['voltage_imbalance'] = df_on[voltage_cols].std(axis=1)"
   ]
  },
  {
   "cell_type": "code",
   "execution_count": 56,
   "id": "8b591a7f",
   "metadata": {},
   "outputs": [],
   "source": [
    "# Power factor anomaly (deviation from ideal = 1)\n",
    "if 'pftot_None' in df_on.columns:\n",
    "    df_on['pf_anomaly'] = np.abs(1 - df_on['pftot_None'])"
   ]
  },
  {
   "cell_type": "code",
   "execution_count": 57,
   "id": "9da45f8f",
   "metadata": {},
   "outputs": [],
   "source": [
    "# Temperature rate of change\n",
    "temp_cols = [c for c in df_on.columns if 'temp' in c.lower()]\n",
    "for col in temp_cols:\n",
    "    df_on[f'{col}_roc'] = df_on[col].diff()"
   ]
  },
  {
   "cell_type": "code",
   "execution_count": 58,
   "id": "821f0a3e",
   "metadata": {},
   "outputs": [],
   "source": [
    "# Fuel rate of change\n",
    "fuel_cols = [c for c in df_on.columns if 'fuel' in c.lower()]\n",
    "for col in fuel_cols:\n",
    "    df_on[f'{col}_roc'] = df_on[col].diff()"
   ]
  },
  {
   "cell_type": "code",
   "execution_count": 59,
   "id": "aa1217d8",
   "metadata": {},
   "outputs": [],
   "source": [
    "# Rolling means & stds\n",
    "rolling_window = 60  # adjust (e.g., 60 rows ~ 1h if data is per minute)\n",
    "for col in ['ptot_W','ia_A','pf_anomaly']:\n",
    "    if col in df_on.columns:\n",
    "        df_on[f'{col}_rollmean'] = df_on[col].rolling(window=rolling_window, min_periods=1).mean()\n",
    "        df_on[f'{col}_rollstd']  = df_on[col].rolling(window=rolling_window, min_periods=1).std()"
   ]
  },
  {
   "cell_type": "code",
   "execution_count": 60,
   "id": "4e0ec1b3",
   "metadata": {},
   "outputs": [
    {
     "name": "stdout",
     "output_type": "stream",
     "text": [
      "Highly correlated feature pairs: [('mVa_V', 'mVb_V', 0.9999502516651855), ('mVa_V', 'mVc_v', 0.9999637243960561), ('mVa_V', 'mVa-mBb_V', 0.999989740932252), ('mVa_V', 'mVb-mVc_V', 0.9999674695903271), ('mVa_V', 'mVc-mVa_V', 0.9999752114586884), ('mVa_V', 'va_V', 0.9857583600219197), ('mVa_V', 'vb_V', 0.985750081425482), ('mVa_V', 'vc_V', 0.9858585061662808), ('mVa_V', 'va-vb_V', 0.9856732994004986), ('mVa_V', 'vb-vc_V', 0.9858023112246473)]\n"
     ]
    }
   ],
   "source": [
    "corr = df_on[feature_cols].corr().abs()\n",
    "redundant = [(i,j,corr.loc[i,j]) for i in corr.columns for j in corr.columns if i!=j and corr.loc[i,j] > 0.95]\n",
    "print(\"Highly correlated feature pairs:\", redundant[:10])\n"
   ]
  },
  {
   "cell_type": "markdown",
   "id": "2f944ada",
   "metadata": {},
   "source": [
    "3. Save Outputs"
   ]
  },
  {
   "cell_type": "code",
   "execution_count": null,
   "id": "c7bb20b6",
   "metadata": {},
   "outputs": [
    {
     "name": "stdout",
     "output_type": "stream",
     "text": [
      "Feature engineering complete. Full saved as parquet, sample saved as CSV.\n"
     ]
    }
   ],
   "source": [
    "feature_cols = [c for c in df_on.columns if c not in ['time']]\n",
    "df_on.to_parquet(\"air_12318_features_full.parquet\")   # big file, keep local\n",
    "df_on.sample(50000, random_state=42).to_csv(\"air_12318_features_sample.csv\", index=False)  # smaller, push to Git\n",
    "\n",
    "print(\"Feature engineering complete. Full saved as parquet, sample saved as CSV.\")"
   ]
  }
 ],
 "metadata": {
  "kernelspec": {
   "display_name": "base",
   "language": "python",
   "name": "python3"
  },
  "language_info": {
   "codemirror_mode": {
    "name": "ipython",
    "version": 3
   },
   "file_extension": ".py",
   "mimetype": "text/x-python",
   "name": "python",
   "nbconvert_exporter": "python",
   "pygments_lexer": "ipython3",
   "version": "3.12.7"
  }
 },
 "nbformat": 4,
 "nbformat_minor": 5
}
