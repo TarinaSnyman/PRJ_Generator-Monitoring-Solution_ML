{
 "cells": [
  {
   "cell_type": "markdown",
   "metadata": {},
   "source": [
    "# Anomaly Detection - air_12300\n",
    "\n",
    "This notebook applies anomaly detection to air_12300 using:\n",
    "1. Isolation Forest (unsupervised)\n",
    "2. One-Class SVM (unsupervised)\n",
    "3. Heuristic rules (domain-based)\n",
    "\n",
    "Results are combined using a voting scheme."
   ]
  },
  {
   "cell_type": "markdown",
   "metadata": {},
   "source": [
    "## 1. Setup"
   ]
  },
  {
   "cell_type": "code",
   "execution_count": 1,
   "metadata": {},
   "outputs": [
    {
     "name": "stdout",
     "output_type": "stream",
     "text": [
      "Dataset shape: (509084, 46)\n",
      "Columns: ['time', 'id', 'epoch', 'air', 'device', 'freq_Hz*10', 'vlineavg_V', 'va_V', 'vb_V', 'vc_V']...\n"
     ]
    }
   ],
   "source": [
    "import pandas as pd\n",
    "import numpy as np\n",
    "import matplotlib.pyplot as plt\n",
    "import seaborn as sns\n",
    "plt.style.use(\"seaborn-v0_8\")\n",
    "\n",
    "from sklearn.ensemble import IsolationForest\n",
    "from sklearn.svm import OneClassSVM\n",
    "from sklearn.preprocessing import StandardScaler\n",
    "\n",
    "# Load engineered features\n",
    "df = pd.read_parquet(\"../../data/processed/air_12300_features_full.parquet\")\n",
    "\n",
    "if 'time' in df.columns:\n",
    "    df['time'] = pd.to_datetime(df['time'], errors='coerce')\n",
    "else:\n",
    "    raise KeyError(\"⚠️ 'time' is missing from features file. Check FeatureEngineering notebook.\")\n",
    "\n",
    "print(f\"Dataset shape: {df.shape}\")\n",
    "print(f\"Columns: {df.columns.tolist()[:10]}...\")"
   ]
  },
  {
   "cell_type": "code",
   "execution_count": 2,
   "metadata": {},
   "outputs": [
    {
     "name": "stdout",
     "output_type": "stream",
     "text": [
      "Data shape (ON cycles): (502117, 46)\n",
      "Feature matrix shape: (502117, 43)\n"
     ]
    }
   ],
   "source": [
    "# Focus only on ON cycles\n",
    "df_on = df[df['is_running'] == 1].copy()\n",
    "print(f\"Data shape (ON cycles): {df_on.shape}\")\n",
    "\n",
    "# Select feature columns (drop ID/time-like fields)\n",
    "feature_cols = [c for c in df_on.columns if c not in ['time', 'id', 'is_running']]\n",
    "X = df_on[feature_cols].fillna(0).values\n",
    "\n",
    "print(f\"Feature matrix shape: {X.shape}\")"
   ]
  },
  {
   "cell_type": "code",
   "execution_count": 3,
   "metadata": {},
   "outputs": [
    {
     "name": "stdout",
     "output_type": "stream",
     "text": [
      "✓ Feature checks completed\n"
     ]
    }
   ],
   "source": [
    "# Ensure pf_anomaly exists\n",
    "if 'pf_anomaly' not in df_on.columns:\n",
    "    if 'pftot_None' in df_on.columns:\n",
    "        df_on['pf_anomaly'] = np.abs(1 - df_on['pftot_None'])\n",
    "    elif all(c in df_on.columns for c in ['ia_A', 'ib_A', 'ic_A', 'ptot_W']):\n",
    "        total_current = df_on[['ia_A', 'ib_A', 'ic_A']].sum(axis=1).replace(0, np.nan)\n",
    "        df_on['pf_est'] = df_on['ptot_W'] / (np.sqrt(3) * 400 * total_current)\n",
    "        df_on['pf_anomaly'] = 1 - df_on['pf_est'].clip(0, 1).fillna(1)\n",
    "    else:\n",
    "        df_on['pf_anomaly'] = np.nan\n",
    "\n",
    "# Ensure fuel_%_roc exists\n",
    "if 'fuel_%_roc' not in df_on.columns and 'fuel_%' in df_on.columns:\n",
    "    df_on['fuel_%_roc'] = df_on['fuel_%'].diff().fillna(0)\n",
    "\n",
    "print(\"✓ Feature checks completed\")"
   ]
  },
  {
   "cell_type": "markdown",
   "metadata": {},
   "source": [
    "## 2. Unsupervised Anomaly Detection"
   ]
  },
  {
   "cell_type": "markdown",
   "metadata": {},
   "source": [
    "### Isolation Forest"
   ]
  },
  {
   "cell_type": "code",
   "execution_count": 4,
   "metadata": {},
   "outputs": [
    {
     "name": "stdout",
     "output_type": "stream",
     "text": [
      "IForest anomalies: 5022\n"
     ]
    }
   ],
   "source": [
    "# Isolation Forest\n",
    "iso = IsolationForest(n_estimators=200, contamination=0.01, random_state=42)\n",
    "df_on['anomaly_iforest'] = iso.fit_predict(X)\n",
    "\n",
    "# Convert to 0=normal, 1=anomaly\n",
    "df_on['anomaly_iforest'] = (df_on['anomaly_iforest'] == -1).astype(int)\n",
    "print(f\"IForest anomalies: {df_on['anomaly_iforest'].sum()}\")"
   ]
  },
  {
   "cell_type": "markdown",
   "metadata": {},
   "source": [
    "### One-Class SVM"
   ]
  },
  {
   "cell_type": "code",
   "execution_count": 5,
   "metadata": {},
   "outputs": [
    {
     "name": "stdout",
     "output_type": "stream",
     "text": [
      "OC-SVM anomalies: 8476\n"
     ]
    }
   ],
   "source": [
    "# One-Class SVM\n",
    "scaler = StandardScaler()\n",
    "X_scaled = scaler.fit_transform(X)\n",
    "\n",
    "ocsvm = OneClassSVM(nu=0.01, kernel=\"rbf\", gamma=\"scale\")\n",
    "df_on['anomaly_ocsvm'] = ocsvm.fit_predict(X_scaled)\n",
    "df_on['anomaly_ocsvm'] = (df_on['anomaly_ocsvm'] == -1).astype(int)\n",
    "\n",
    "print(f\"OC-SVM anomalies: {df_on['anomaly_ocsvm'].sum()}\")"
   ]
  },
  {
   "cell_type": "markdown",
   "metadata": {},
   "source": [
    "## 3. Heuristic Anomaly Detection"
   ]
  },
  {
   "cell_type": "code",
   "execution_count": 6,
   "metadata": {},
   "outputs": [
    {
     "name": "stdout",
     "output_type": "stream",
     "text": [
      "✓ Rolling features computed\n"
     ]
    }
   ],
   "source": [
    "# Improved Heuristic Model\n",
    "df_h = df_on.copy()\n",
    "\n",
    "# Rolling window (fixed number of samples to avoid errors)\n",
    "ROLL_WINDOW = 20\n",
    "\n",
    "# Compute rolling features safely\n",
    "if 'temp_Degrees Celsius' in df_h.columns:\n",
    "    df_h['temp_roll_mean'] = df_h['temp_Degrees Celsius'].rolling(ROLL_WINDOW, min_periods=1).mean()\n",
    "\n",
    "if 'ptot_W' in df_h.columns:\n",
    "    df_h['ptot_W_rollstd'] = df_h['ptot_W'].rolling(ROLL_WINDOW, min_periods=1).std()\n",
    "\n",
    "if 'fuel_%' in df_h.columns:\n",
    "    df_h['fuel_%_roc'] = df_h['fuel_%'].diff().fillna(0)\n",
    "\n",
    "if all(c in df_h.columns for c in ['ia_A', 'ib_A', 'ic_A']):\n",
    "    df_h['current_imbalance'] = df_h[['ia_A', 'ib_A', 'ic_A']].std(axis=1)\n",
    "\n",
    "if all(c in df_h.columns for c in ['va_V', 'vb_V', 'vc_V']):\n",
    "    df_h['voltage_imbalance'] = df_h[['va_V', 'vb_V', 'vc_V']].std(axis=1)\n",
    "\n",
    "print(\"✓ Rolling features computed\")"
   ]
  },
  {
   "cell_type": "code",
   "execution_count": 7,
   "metadata": {},
   "outputs": [
    {
     "name": "stdout",
     "output_type": "stream",
     "text": [
      "Thresholds:\n",
      "  Temperature: 2000000000.00°C\n",
      "  Power factor anomaly: 1999999999.0000\n",
      "  Fuel rate: nan%\n",
      "  Current imbalance: 1154700538.38A\n",
      "  Voltage imbalance: 1154700538.38V\n"
     ]
    }
   ],
   "source": [
    "# Thresholds\n",
    "def pct_thresh(series, pct):\n",
    "    series = series.dropna()\n",
    "    return series.quantile(pct) if len(series) > 0 else np.nan\n",
    "\n",
    "th_temp = pct_thresh(df_h['temp_Degrees Celsius'], 0.995) if 'temp_Degrees Celsius' in df_h else np.nan\n",
    "th_pf = pct_thresh(df_h['pf_anomaly'], 0.99) if 'pf_anomaly' in df_h else np.nan\n",
    "th_fuel = pct_thresh(df_h['fuel_%_roc'], 0.01) if 'fuel_%_roc' in df_h else np.nan\n",
    "th_curr = pct_thresh(df_h['current_imbalance'], 0.99) if 'current_imbalance' in df_h else np.nan\n",
    "th_volt = pct_thresh(df_h['voltage_imbalance'], 0.99) if 'voltage_imbalance' in df_h else np.nan\n",
    "\n",
    "print(f\"Thresholds:\")\n",
    "print(f\"  Temperature: {th_temp:.2f}°C\")\n",
    "print(f\"  Power factor anomaly: {th_pf:.4f}\")\n",
    "print(f\"  Fuel rate: {th_fuel:.2f}%\")\n",
    "print(f\"  Current imbalance: {th_curr:.2f}A\")\n",
    "print(f\"  Voltage imbalance: {th_volt:.2f}V\")"
   ]
  },
  {
   "cell_type": "code",
   "execution_count": 8,
   "metadata": {},
   "outputs": [
    {
     "name": "stdout",
     "output_type": "stream",
     "text": [
      "✅ Heuristic anomalies: 127\n"
     ]
    }
   ],
   "source": [
    "# Apply rules\n",
    "scores = pd.DataFrame(index=df_h.index)\n",
    "scores['temp'] = (df_h['temp_Degrees Celsius'] > th_temp).astype(int) if 'temp_Degrees Celsius' in df_h else 0\n",
    "scores['pf'] = (df_h['pf_anomaly'] > th_pf).astype(int) if 'pf_anomaly' in df_h else 0\n",
    "scores['fuel'] = (df_h['fuel_%_roc'] < th_fuel).astype(int) if 'fuel_%_roc' in df_h else 0\n",
    "scores['curr'] = (df_h['current_imbalance'] > th_curr).astype(int) if 'current_imbalance' in df_h else 0\n",
    "scores['volt'] = (df_h['voltage_imbalance'] > th_volt).astype(int) if 'voltage_imbalance' in df_h else 0\n",
    "\n",
    "# Heuristic anomaly score\n",
    "df_h['heuristic_score'] = scores.sum(axis=1) / max(1, scores.shape[1])\n",
    "\n",
    "# Binary anomaly flag\n",
    "df_h['anomaly_heuristic'] = (df_h['heuristic_score'] >= 0.4).astype(int)\n",
    "\n",
    "# Update df_on\n",
    "df_on['heuristic_score'] = df_h['heuristic_score']\n",
    "df_on['anomaly_heuristic'] = df_h['anomaly_heuristic']\n",
    "\n",
    "print(f\"✅ Heuristic anomalies: {df_on['anomaly_heuristic'].sum()}\")"
   ]
  },
  {
   "cell_type": "markdown",
   "metadata": {},
   "source": [
    "## 4. Voting Ensemble"
   ]
  },
  {
   "cell_type": "code",
   "execution_count": 9,
   "metadata": {},
   "outputs": [
    {
     "name": "stdout",
     "output_type": "stream",
     "text": [
      "⚠️ anomaly_iforest not found, filling with 0s\n",
      "⚠️ anomaly_ocsvm not found, filling with 0s\n",
      "⚠️ anomaly_heuristic not found, filling with 0s\n",
      "✅ anomaly_votes ensured in both df and df_on\n"
     ]
    }
   ],
   "source": [
    "methods = ['anomaly_iforest', 'anomaly_ocsvm', 'anomaly_heuristic']\n",
    "\n",
    "def ensure_anomaly_votes(df):\n",
    "    \"\"\"Ensure anomaly columns exist and create anomaly_votes.\"\"\"\n",
    "    for m in methods:\n",
    "        if m not in df.columns:\n",
    "            print(f\"⚠️ {m} not found, filling with 0s\")\n",
    "            df[m] = 0\n",
    "    \n",
    "    df['anomaly_votes'] = df[methods].sum(axis=1)\n",
    "    return df\n",
    "\n",
    "# Apply to both datasets\n",
    "df = ensure_anomaly_votes(df)\n",
    "df_on = ensure_anomaly_votes(df_on)\n",
    "\n",
    "print(\"✅ anomaly_votes ensured in both df and df_on\")"
   ]
  },
  {
   "cell_type": "code",
   "execution_count": 10,
   "metadata": {},
   "outputs": [
    {
     "name": "stdout",
     "output_type": "stream",
     "text": [
      "✅ Synced anomalies into both df and df_on\n"
     ]
    }
   ],
   "source": [
    "# Sync anomaly columns back into full dataset (df)\n",
    "for col in ['anomaly_iforest', 'anomaly_ocsvm', 'anomaly_heuristic']:\n",
    "    if col in df_on.columns:\n",
    "        df.loc[df_on.index, col] = df_on[col]\n",
    "\n",
    "# Ensure anomaly_votes exists in both\n",
    "df = ensure_anomaly_votes(df)\n",
    "df_on = ensure_anomaly_votes(df_on)\n",
    "\n",
    "print(\"✅ Synced anomalies into both df and df_on\")"
   ]
  },
  {
   "cell_type": "code",
   "execution_count": 11,
   "metadata": {},
   "outputs": [
    {
     "name": "stdout",
     "output_type": "stream",
     "text": [
      "Anomaly rates:\n",
      "anomaly_iforest      0.010002\n",
      "anomaly_ocsvm        0.016881\n",
      "anomaly_heuristic    0.000253\n",
      "dtype: float64\n",
      "\n",
      "Voting distribution:\n",
      "anomaly_votes\n",
      "0    489862\n",
      "1     10893\n",
      "2      1354\n",
      "3         8\n",
      "Name: count, dtype: int64\n",
      "\n",
      "Strong anomalies (3 votes): 8\n",
      "Likely anomalies (2 votes): 1354\n",
      "Weak anomalies (1 vote): 10893\n"
     ]
    }
   ],
   "source": [
    "# Anomaly rates\n",
    "agreement = df_on[methods].mean()\n",
    "print(\"Anomaly rates:\")\n",
    "print(agreement)\n",
    "\n",
    "print(\"\\nVoting distribution:\")\n",
    "print(df_on['anomaly_votes'].value_counts().sort_index())\n",
    "\n",
    "print(f\"\\nStrong anomalies (3 votes): {(df_on['anomaly_votes'] == 3).sum()}\")\n",
    "print(f\"Likely anomalies (2 votes): {(df_on['anomaly_votes'] == 2).sum()}\")\n",
    "print(f\"Weak anomalies (1 vote): {(df_on['anomaly_votes'] == 1).sum()}\")"
   ]
  },
  {
   "cell_type": "markdown",
   "metadata": {},
   "source": [
    "## 5. Visualize Anomalies"
   ]
  },
  {
   "cell_type": "code",
   "execution_count": 12,
   "metadata": {},
   "outputs": [
    {
     "data": {
      "image/png": "[encoded data removed]",
      "text/plain": [
       "<Figure size 1500x600 with 1 Axes>"
      ]
     },
     "metadata": {},
     "output_type": "display_data"
    }
   ],
   "source": [
    "# Visualize anomalies on top of power curve\n",
    "plt.figure(figsize=(15, 6))\n",
    "plt.plot(df_on['time'], df_on['ptot_W'], label=\"Power (W)\", alpha=0.7)\n",
    "\n",
    "# Overlay anomalies\n",
    "plt.scatter(df_on.loc[df_on['anomaly_iforest'] == 1, 'time'],\n",
    "            df_on.loc[df_on['anomaly_iforest'] == 1, 'ptot_W'],\n",
    "            color='red', s=10, label='IForest')\n",
    "\n",
    "plt.scatter(df_on.loc[df_on['anomaly_ocsvm'] == 1, 'time'],\n",
    "            df_on.loc[df_on['anomaly_ocsvm'] == 1, 'ptot_W'],\n",
    "            color='blue', s=10, label='OC-SVM', alpha=0.5)\n",
    "\n",
    "plt.scatter(df_on.loc[df_on['anomaly_heuristic'] == 1, 'time'],\n",
    "            df_on.loc[df_on['anomaly_heuristic'] == 1, 'ptot_W'],\n",
    "            color='orange', s=20, label='Heuristic', marker='x')\n",
    "\n",
    "plt.legend()\n",
    "plt.title(\"Anomalies Detected (air_12300, ON cycles only)\")\n",
    "plt.xlabel(\"Time\")\n",
    "plt.ylabel(\"Power (W)\")\n",
    "plt.tight_layout()\n",
    "plt.show()"
   ]
  },
  {
   "cell_type": "code",
   "execution_count": 13,
   "metadata": {},
   "outputs": [
    {
     "data": {
      "image/png": "[encoded data removed]",
      "text/plain": [
       "<Figure size 800x550 with 1 Axes>"
      ]
     },
     "metadata": {},
     "output_type": "display_data"
    }
   ],
   "source": [
    "# Anomaly distribution bar chart\n",
    "anomaly_summary = df_on['anomaly_votes'].value_counts().sort_index()\n",
    "\n",
    "anomaly_summary.plot(kind='bar', color='orange', edgecolor='black')\n",
    "plt.title(\"Anomaly Votes Distribution (air_12300)\")\n",
    "plt.xlabel(\"Votes (Number of methods agreeing)\")\n",
    "plt.ylabel(\"Count\")\n",
    "plt.tight_layout()\n",
    "plt.show()"
   ]
  },
  {
   "cell_type": "markdown",
   "metadata": {},
   "source": [
    "## 6. Save Results"
   ]
  },
  {
   "cell_type": "code",
   "execution_count": 14,
   "metadata": {},
   "outputs": [
    {
     "name": "stdout",
     "output_type": "stream",
     "text": [
      "✅ Saved dataset with anomalies:\n",
      "  - ../../data/processed\\air_12300_with_anomalies.parquet\n",
      "  - ../../data/processed\\air_12300_with_anomalies.csv\n",
      "\n",
      "Anomaly columns: ['pf_anomaly', 'pf_anomaly_rollmean', 'pf_anomaly_rollstd', 'anomaly_iforest', 'anomaly_ocsvm', 'anomaly_heuristic', 'anomaly_votes']\n"
     ]
    }
   ],
   "source": [
    "import os\n",
    "\n",
    "# Save dataset with anomaly columns\n",
    "processed_dir = \"../../data/processed\"\n",
    "out_path_parquet = os.path.join(processed_dir, \"air_12300_with_anomalies.parquet\")\n",
    "out_path_csv = os.path.join(processed_dir, \"air_12300_with_anomalies.csv\")\n",
    "\n",
    "# Make sure votes exist\n",
    "if 'anomaly_votes' not in df.columns:\n",
    "    df['anomaly_votes'] = df[methods].sum(axis=1)\n",
    "\n",
    "df.to_parquet(out_path_parquet, index=False)\n",
    "df.to_csv(out_path_csv, index=False)\n",
    "\n",
    "print(\"✅ Saved dataset with anomalies:\")\n",
    "print(f\"  - {out_path_parquet}\")\n",
    "print(f\"  - {out_path_csv}\")\n",
    "print(f\"\\nAnomaly columns: {[c for c in df.columns if 'anomaly' in c]}\")"
   ]
  },
  {
   "cell_type": "markdown",
   "metadata": {},
   "source": [
    "## Summary\n",
    "\n",
    "Anomaly detection completed for **air_12300**:\n",
    "- ✅ Isolation Forest (unsupervised)\n",
    "- ✅ One-Class SVM (unsupervised)\n",
    "- ✅ Heuristic rules (domain-based)\n",
    "- ✅ Voting ensemble (0-3 votes)\n",
    "\n",
    "**Next step**: Run `CNN_LSTM_12300.ipynb` to train the predictive maintenance model."
   ]
  }
 ],
 "metadata": {
  "kernelspec": {
   "display_name": "tensorflow",
   "language": "python",
   "name": "python3"
  },
  "language_info": {
   "codemirror_mode": {
    "name": "ipython",
    "version": 3
   },
   "file_extension": ".py",
   "mimetype": "text/x-python",
   "name": "python",
   "nbconvert_exporter": "python",
   "pygments_lexer": "ipython3",
   "version": "3.11.13"
  }
 },
 "nbformat": 4,
 "nbformat_minor": 4
}
