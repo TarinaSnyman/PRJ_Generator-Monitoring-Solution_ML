{
 "cells": [
  {
   "cell_type": "markdown",
   "metadata": {},
   "source": [
    "# Feature Engineering - air_12300\n",
    "\n",
    "This notebook applies feature engineering to the air_12300 dataset, following the same pipeline as air_12318."
   ]
  },
  {
   "cell_type": "markdown",
   "metadata": {},
   "source": [
    "## 1. Setup"
   ]
  },
  {
   "cell_type": "code",
   "execution_count": 1,
   "metadata": {},
   "outputs": [],
   "source": [
    "import pandas as pd\n",
    "import numpy as np\n",
    "import matplotlib.pyplot as plt\n",
    "import seaborn as sns\n",
    "from sklearn.ensemble import IsolationForest\n",
    "from sklearn.mixture import GaussianMixture"
   ]
  },
  {
   "cell_type": "code",
   "execution_count": 2,
   "metadata": {},
   "outputs": [
    {
     "name": "stdout",
     "output_type": "stream",
     "text": [
      "Dataset shape: (509084, 33)\n",
      "\n",
      "Columns: ['id', 'time', 'epoch', 'air', 'device', 'freq_hertz', 'vlineavg_volt', 'va_volt', 'vb_volt', 'vc_volt', 'vlineper_volt', 'ia_ampere', 'ib_ampere', 'ic_ampere', 'iavg_ampere', 'pftot_none', 'ptotper_percent', 'ptot_watt', 'stotper_percent', 'stot_volt-ampere', 'qtotper_percent', 'qtot_var', 'expvar_var-hour', 'expwh_watt-hour', 'state_none', 'hours_hour', 'servhr_hour', 'servday_day', 'startcount_none', 'oilpress_pascal', 'cooltemp_degree-celsius', 'rpm_revolutions-per-minute', 'vbat_volt']\n"
     ]
    }
   ],
   "source": [
    "df = pd.read_csv(\"../../data/raw/air_12300.csv\", on_bad_lines='skip')\n",
    "df['time'] = pd.to_datetime(df['time'], errors='coerce')\n",
    "df = df.sort_values('time').reset_index(drop=True)\n",
    "\n",
    "print(f\"Dataset shape: {df.shape}\")\n",
    "print(f\"\\nColumns: {df.columns.tolist()}\")"
   ]
  },
  {
   "cell_type": "markdown",
   "metadata": {},
   "source": [
    "## 2. ON/OFF Detection"
   ]
  },
  {
   "cell_type": "code",
   "execution_count": 3,
   "metadata": {},
   "outputs": [
    {
     "name": "stdout",
     "output_type": "stream",
     "text": [
      "Dataset shape: (509084, 33)\n",
      "\n",
      "Original columns: ['id', 'time', 'epoch', 'air', 'device', 'freq_hertz', 'vlineavg_volt', 'va_volt', 'vb_volt', 'vc_volt']...\n",
      "\n",
      "✓ Columns renamed to standard format\n",
      "Renamed columns: ['id', 'time', 'epoch', 'air', 'device', 'freq_Hz*10', 'vlineavg_V', 'va_V', 'vb_V', 'vc_V']...\n"
     ]
    }
   ],
   "source": [
    "df = pd.read_csv(\"../../data/raw/air_12300.csv\", on_bad_lines='skip')\n",
    "df['time'] = pd.to_datetime(df['time'], errors='coerce')\n",
    "df = df.sort_values('time').reset_index(drop=True)\n",
    "\n",
    "print(f\"Dataset shape: {df.shape}\")\n",
    "print(f\"\\nOriginal columns: {df.columns.tolist()[:10]}...\")\n",
    "\n",
    "# Rename columns to match air_12318 naming convention\n",
    "column_mapping = {\n",
    "    'ptot_watt': 'ptot_W',\n",
    "    'qtot_var': 'qtot_Var',\n",
    "    'stot_volt-ampere': 'stot_VA',\n",
    "    'ia_ampere': 'ia_A',\n",
    "    'ib_ampere': 'ib_A',\n",
    "    'ic_ampere': 'ic_A',\n",
    "    'iavg_ampere': 'iavg_A',\n",
    "    'va_volt': 'va_V',\n",
    "    'vb_volt': 'vb_V',\n",
    "    'vc_volt': 'vc_V',\n",
    "    'vlineavg_volt': 'vlineavg_V',\n",
    "    'vlineper_volt': 'vlineper_V',\n",
    "    'vbat_volt': 'vbat_V',\n",
    "    'pftot_none': 'pftot_None',\n",
    "    'cooltemp_degree-celsius': 'temp_Degrees Celsius',\n",
    "    'oilpress_pascal': 'pressure_Bar',\n",
    "    'freq_hertz': 'freq_Hz*10',\n",
    "    'hours_hour': 'hours_sec',\n",
    "    'expwh_watt-hour': 'expwh_Kwh*10',\n",
    "    'expvar_var-hour': 'expvar_Kvarh*10',\n",
    "}\n",
    "\n",
    "df = df.rename(columns=column_mapping)\n",
    "\n",
    "print(f\"\\n✓ Columns renamed to standard format\")\n",
    "print(f\"Renamed columns: {df.columns.tolist()[:10]}...\")"
   ]
  },
  {
   "cell_type": "code",
   "execution_count": 4,
   "metadata": {},
   "outputs": [
    {
     "name": "stdout",
     "output_type": "stream",
     "text": [
      "GMM cluster means: [21.41641413  5.44787643]\n",
      "ON cluster: 0\n",
      "✓ GMM-based ON/OFF detection complete\n"
     ]
    }
   ],
   "source": [
    "# ON/OFF Detection using GMM on log(power)\n",
    "p = df['ptot_W'].clip(lower=0).fillna(0)\n",
    "X = np.log1p(p).values.reshape(-1, 1)\n",
    "\n",
    "gmm = GaussianMixture(n_components=2, random_state=42).fit(X)\n",
    "labels = gmm.predict(X)\n",
    "\n",
    "means = gmm.means_.flatten()\n",
    "on_cluster = np.argmax(means)\n",
    "\n",
    "df['is_running_gmm'] = (labels == on_cluster).astype(int)\n",
    "\n",
    "print(\"GMM cluster means:\", means)\n",
    "print(\"ON cluster:\", on_cluster)\n",
    "print(f\"✓ GMM-based ON/OFF detection complete\")"
   ]
  },
  {
   "cell_type": "code",
   "execution_count": 5,
   "metadata": {},
   "outputs": [
    {
     "name": "stdout",
     "output_type": "stream",
     "text": [
      "✓ Current check complete\n"
     ]
    }
   ],
   "source": [
    "# Cross-check with currents\n",
    "df['any_current'] = df[['ia_A', 'ib_A', 'ic_A']].sum(axis=1) > 0.1\n",
    "print(f\"✓ Current check complete\")"
   ]
  },
  {
   "cell_type": "code",
   "execution_count": 6,
   "metadata": {},
   "outputs": [
    {
     "name": "stdout",
     "output_type": "stream",
     "text": [
      "ON/OFF split:\n",
      "is_running\n",
      "1    0.986315\n",
      "0    0.013685\n",
      "Name: proportion, dtype: float64\n"
     ]
    }
   ],
   "source": [
    "# Final ON/OFF label\n",
    "df['is_running'] = ((df['is_running_gmm'] == 1) | df['any_current']).astype(int)\n",
    "\n",
    "print(\"ON/OFF split:\")\n",
    "print(df['is_running'].value_counts(normalize=True))"
   ]
  },
  {
   "cell_type": "markdown",
   "metadata": {},
   "source": [
    "## 3. Feature Engineering"
   ]
  },
  {
   "cell_type": "code",
   "execution_count": 7,
   "metadata": {},
   "outputs": [
    {
     "name": "stdout",
     "output_type": "stream",
     "text": [
      "✓ Current imbalance feature created\n"
     ]
    }
   ],
   "source": [
    "# Current imbalance\n",
    "if all(col in df.columns for col in ['ia_A', 'ib_A', 'ic_A']):\n",
    "    df['current_imbalance'] = df[['ia_A', 'ib_A', 'ic_A']].std(axis=1)\n",
    "    print(\"✓ Current imbalance feature created\")"
   ]
  },
  {
   "cell_type": "code",
   "execution_count": 8,
   "metadata": {},
   "outputs": [
    {
     "name": "stdout",
     "output_type": "stream",
     "text": [
      "✓ Voltage imbalance feature created\n"
     ]
    }
   ],
   "source": [
    "# Voltage imbalance\n",
    "voltage_cols = ['va_V', 'vb_V', 'vc_V']\n",
    "if all(col in df.columns for col in voltage_cols):\n",
    "    df['voltage_imbalance'] = df[voltage_cols].std(axis=1)\n",
    "    print(\"✓ Voltage imbalance feature created\")"
   ]
  },
  {
   "cell_type": "code",
   "execution_count": 9,
   "metadata": {},
   "outputs": [
    {
     "name": "stdout",
     "output_type": "stream",
     "text": [
      "✓ Power factor anomaly feature created\n"
     ]
    }
   ],
   "source": [
    "# Power factor anomaly (deviation from ideal = 1)\n",
    "if 'pftot_None' in df.columns:\n",
    "    df['pf_anomaly'] = np.abs(1 - df['pftot_None'])\n",
    "    print(\"✓ Power factor anomaly feature created\")"
   ]
  },
  {
   "cell_type": "code",
   "execution_count": 10,
   "metadata": {},
   "outputs": [
    {
     "name": "stdout",
     "output_type": "stream",
     "text": [
      "✓ Temperature rate of change features created (1 columns)\n"
     ]
    }
   ],
   "source": [
    "# Temperature rate of change\n",
    "temp_cols = [c for c in df.columns if 'temp' in c.lower()]\n",
    "for col in temp_cols:\n",
    "    df[f'{col}_roc'] = df[col].diff()\n",
    "\n",
    "if temp_cols:\n",
    "    print(f\"✓ Temperature rate of change features created ({len(temp_cols)} columns)\")"
   ]
  },
  {
   "cell_type": "code",
   "execution_count": 11,
   "metadata": {},
   "outputs": [],
   "source": [
    "# Fuel rate of change\n",
    "fuel_cols = [c for c in df.columns if 'fuel' in c.lower()]\n",
    "for col in fuel_cols:\n",
    "    df[f'{col}_roc'] = df[col].diff()\n",
    "\n",
    "if fuel_cols:\n",
    "    print(f\"✓ Fuel rate of change features created ({len(fuel_cols)} columns)\")"
   ]
  },
  {
   "cell_type": "code",
   "execution_count": 12,
   "metadata": {},
   "outputs": [
    {
     "name": "stdout",
     "output_type": "stream",
     "text": [
      "✓ Rolling statistics created (window=60)\n"
     ]
    }
   ],
   "source": [
    "# Rolling means & stds\n",
    "rolling_window = 60  # 60 rows ~ 1h if data is per minute\n",
    "\n",
    "for col in ['ptot_W', 'ia_A', 'pf_anomaly']:\n",
    "    if col in df.columns:\n",
    "        df[f'{col}_rollmean'] = df[col].rolling(window=rolling_window, min_periods=1).mean()\n",
    "        df[f'{col}_rollstd'] = df[col].rolling(window=rolling_window, min_periods=1).std()\n",
    "\n",
    "print(f\"✓ Rolling statistics created (window={rolling_window})\")"
   ]
  },
  {
   "cell_type": "markdown",
   "metadata": {},
   "source": [
    "## 4. Verify Features"
   ]
  },
  {
   "cell_type": "code",
   "execution_count": 13,
   "metadata": {},
   "outputs": [
    {
     "name": "stdout",
     "output_type": "stream",
     "text": [
      "✅ 'time' column preserved in final features: True\n",
      "\n",
      "Final shape: (509084, 46)\n",
      "Total columns: 46\n"
     ]
    }
   ],
   "source": [
    "# Ensure 'time' is in the dataframe\n",
    "if 'time' not in df.columns:\n",
    "    print(\"⚠️ Warning: 'time' column missing, reloading from raw data...\")\n",
    "    df_raw = pd.read_csv(\"../../data/raw/air_12300.csv\", on_bad_lines='skip')\n",
    "    df_raw['time'] = pd.to_datetime(df_raw['time'], errors='coerce')\n",
    "    df['time'] = df_raw.loc[df.index, 'time'].values\n",
    "\n",
    "# Move 'time' to the front\n",
    "cols = ['time'] + [c for c in df.columns if c != 'time']\n",
    "df = df[cols]\n",
    "\n",
    "print(\"✅ 'time' column preserved in final features:\", 'time' in df.columns)\n",
    "print(f\"\\nFinal shape: {df.shape}\")\n",
    "print(f\"Total columns: {len(df.columns)}\")"
   ]
  },
  {
   "cell_type": "code",
   "execution_count": 14,
   "metadata": {},
   "outputs": [
    {
     "name": "stdout",
     "output_type": "stream",
     "text": [
      "Columns before saving:\n",
      "['time', 'id', 'epoch', 'air', 'device', 'freq_Hz*10', 'vlineavg_V', 'va_V', 'vb_V', 'vc_V', 'vlineper_V', 'ia_A', 'ib_A', 'ic_A', 'iavg_A', 'pftot_None', 'ptotper_percent', 'ptot_W', 'stotper_percent', 'stot_VA', 'qtotper_percent', 'qtot_Var', 'expvar_Kvarh*10', 'expwh_Kwh*10', 'state_none', 'hours_sec', 'servhr_hour', 'servday_day', 'startcount_none', 'pressure_Bar', 'temp_Degrees Celsius', 'rpm_revolutions-per-minute', 'vbat_V', 'is_running_gmm', 'any_current', 'is_running', 'current_imbalance', 'voltage_imbalance', 'pf_anomaly', 'temp_Degrees Celsius_roc', 'ptot_W_rollmean', 'ptot_W_rollstd', 'ia_A_rollmean', 'ia_A_rollstd', 'pf_anomaly_rollmean', 'pf_anomaly_rollstd']\n"
     ]
    }
   ],
   "source": [
    "# Display columns\n",
    "print(\"Columns before saving:\")\n",
    "print(df.columns.tolist())"
   ]
  },
  {
   "cell_type": "code",
   "execution_count": 15,
   "metadata": {},
   "outputs": [
    {
     "name": "stdout",
     "output_type": "stream",
     "text": [
      "\n",
      "Missing values:\n",
      "va_V                          3000\n",
      "vb_V                          3000\n",
      "vc_V                          3000\n",
      "vlineper_V                    3000\n",
      "ia_A                          3000\n",
      "ib_A                          3000\n",
      "ic_A                          3000\n",
      "iavg_A                        3000\n",
      "pftot_None                    3000\n",
      "ptotper_percent               3000\n",
      "ptot_W                        3000\n",
      "stotper_percent               3000\n",
      "stot_VA                       3000\n",
      "qtotper_percent               3000\n",
      "qtot_Var                      3000\n",
      "expvar_Kvarh*10               3000\n",
      "expwh_Kwh*10                  3000\n",
      "state_none                    3000\n",
      "hours_sec                     3000\n",
      "servhr_hour                   3000\n",
      "servday_day                   3000\n",
      "startcount_none               3000\n",
      "pressure_Bar                  3000\n",
      "temp_Degrees Celsius          3000\n",
      "rpm_revolutions-per-minute    3000\n",
      "vbat_V                        3000\n",
      "current_imbalance             3000\n",
      "voltage_imbalance             3000\n",
      "pf_anomaly                    3000\n",
      "temp_Degrees Celsius_roc      3001\n",
      "ptot_W_rollmean               3000\n",
      "ptot_W_rollstd                3001\n",
      "ia_A_rollmean                 3000\n",
      "ia_A_rollstd                  3001\n",
      "pf_anomaly_rollmean           3000\n",
      "pf_anomaly_rollstd            3001\n",
      "dtype: int64\n"
     ]
    }
   ],
   "source": [
    "# Check for missing values\n",
    "missing = df.isnull().sum()\n",
    "if missing.sum() > 0:\n",
    "    print(\"\\nMissing values:\")\n",
    "    print(missing[missing > 0])\n",
    "else:\n",
    "    print(\"\\n✅ No missing values\")"
   ]
  },
  {
   "cell_type": "markdown",
   "metadata": {},
   "source": [
    "## 5. Feature Importance (Optional Analysis)"
   ]
  },
  {
   "cell_type": "code",
   "execution_count": 16,
   "metadata": {},
   "outputs": [
    {
     "name": "stdout",
     "output_type": "stream",
     "text": [
      "Number of features: 39\n",
      "\n",
      "Sample features: ['freq_Hz*10', 'vlineavg_V', 'va_V', 'vb_V', 'vc_V', 'vlineper_V', 'ia_A', 'ib_A', 'ic_A', 'iavg_A']\n"
     ]
    }
   ],
   "source": [
    "# Define which columns are actual features\n",
    "exclude_cols = ['time', 'id', 'epoch', 'air', 'device', 'is_running_gmm', 'any_current']\n",
    "feature_cols = [c for c in df.columns if c not in exclude_cols]\n",
    "\n",
    "print(f\"Number of features: {len(feature_cols)}\")\n",
    "print(f\"\\nSample features: {feature_cols[:10]}\")"
   ]
  },
  {
   "cell_type": "markdown",
   "metadata": {},
   "source": [
    "### Feature Explanations\n",
    "\n",
    "- **voltage_imbalance** = `std(va_V, vb_V, vc_V)`  \n",
    "  High values indicate phase imbalance, which stresses the generator.\n",
    "\n",
    "- **current_imbalance** = `std(ia_A, ib_A, ic_A)`  \n",
    "  Highlights uneven load across phases, possible wiring or load issues.\n",
    "\n",
    "- **pf_anomaly** = `|1 - pftot_None|`  \n",
    "  Shows inefficiency in power usage. Large deviations = possible electrical faults.\n",
    "\n",
    "- **temp_roc** = change in temperature over time  \n",
    "  Sudden rises may indicate cooling issues or overload.\n",
    "\n",
    "- **fuel_roc** = change in fuel level  \n",
    "  Smooth drops = normal usage, sharp drops = refueling events or sensor errors.\n",
    "\n",
    "- **rolling means / stds** (for power, current, temp, etc.)  \n",
    "  Capture long-term trends instead of just single data points.\n",
    "\n",
    "These features together capture **operational health signals** and form the input for anomaly detection / predictive maintenance models."
   ]
  },
  {
   "cell_type": "markdown",
   "metadata": {},
   "source": [
    "## 6. Save Outputs"
   ]
  },
  {
   "cell_type": "code",
   "execution_count": 17,
   "metadata": {},
   "outputs": [
    {
     "name": "stdout",
     "output_type": "stream",
     "text": [
      "✅ Saved processed features with all engineered columns.\n",
      "\n",
      "Files saved:\n",
      "  - ../../data/processed\\air_12300_features_full.parquet\n",
      "  - ../../data/processed\\air_12300_features_full.csv\n",
      "  - ../../data/processed\\air_12300_features_sample.parquet\n",
      "  - ../../data/processed\\air_12300_features_sample.csv\n"
     ]
    }
   ],
   "source": [
    "import os\n",
    "processed_dir = \"../../data/processed\"\n",
    "\n",
    "# Create directory if it doesn't exist\n",
    "os.makedirs(processed_dir, exist_ok=True)\n",
    "\n",
    "# Save full dataset\n",
    "full_path_parquet = os.path.join(processed_dir, \"air_12300_features_full.parquet\")\n",
    "full_path_csv = os.path.join(processed_dir, \"air_12300_features_full.csv\")\n",
    "\n",
    "df.to_parquet(full_path_parquet, index=False)\n",
    "df.to_csv(full_path_csv, index=False)\n",
    "\n",
    "# Save sample\n",
    "sample_path_parquet = os.path.join(processed_dir, \"air_12300_features_sample.parquet\")\n",
    "sample_path_csv = os.path.join(processed_dir, \"air_12300_features_sample.csv\")\n",
    "\n",
    "df.head(10000).to_parquet(sample_path_parquet, index=False)\n",
    "df.head(10000).to_csv(sample_path_csv, index=False)\n",
    "\n",
    "print(\"✅ Saved processed features with all engineered columns.\")\n",
    "print(f\"\\nFiles saved:\")\n",
    "print(f\"  - {full_path_parquet}\")\n",
    "print(f\"  - {full_path_csv}\")\n",
    "print(f\"  - {sample_path_parquet}\")\n",
    "print(f\"  - {sample_path_csv}\")"
   ]
  },
  {
   "cell_type": "markdown",
   "metadata": {},
   "source": [
    "## Summary\n",
    "\n",
    "Feature engineering completed for **air_12300**:\n",
    "- ✅ ON/OFF state detection (GMM)\n",
    "- ✅ Current imbalance\n",
    "- ✅ Voltage imbalance\n",
    "- ✅ Power factor anomaly\n",
    "- ✅ Temperature & fuel rate of change\n",
    "- ✅ Rolling statistics (60-window)\n",
    "\n",
    "**Next step**: Run `AnomalyDetection_12300.ipynb` to detect anomalies using the engineered features."
   ]
  }
 ],
 "metadata": {
  "kernelspec": {
   "display_name": "tensorflow",
   "language": "python",
   "name": "python3"
  },
  "language_info": {
   "codemirror_mode": {
    "name": "ipython",
    "version": 3
   },
   "file_extension": ".py",
   "mimetype": "text/x-python",
   "name": "python",
   "nbconvert_exporter": "python",
   "pygments_lexer": "ipython3",
   "version": "3.11.13"
  }
 },
 "nbformat": 4,
 "nbformat_minor": 4
}
