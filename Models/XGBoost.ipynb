{
 "cells": [
  {
   "cell_type": "markdown",
   "id": "692f9a3a",
   "metadata": {},
   "source": [
    "Install + Import Libraries\n"
   ]
  },
  {
   "cell_type": "code",
   "execution_count": null,
   "id": "8f7331a6",
   "metadata": {},
   "outputs": [],
   "source": [
    "!pip install xgboost scikit-learn matplotlib pandas seaborn\n"
   ]
  },
  {
   "cell_type": "markdown",
   "id": "3d817f47",
   "metadata": {},
   "source": [
    "Load the dataset\n",
    "\n",
    "Replace 'your_data.csv' with the cleaned + labeled dataset your team will provide"
   ]
  },
  {
   "cell_type": "code",
   "execution_count": null,
   "id": "e9c75045",
   "metadata": {},
   "outputs": [],
   "source": [
    "df = pd.read_csv(\"your_data.csv\")\n"
   ]
  },
  {
   "cell_type": "markdown",
   "id": "e36b700b",
   "metadata": {},
   "source": [
    "Inspect structure"
   ]
  },
  {
   "cell_type": "code",
   "execution_count": null,
   "id": "e929dd08",
   "metadata": {},
   "outputs": [],
   "source": [
    "print(df.head())\n",
    "print(df.info())\n"
   ]
  },
  {
   "cell_type": "markdown",
   "id": "9ba28f9c",
   "metadata": {},
   "source": [
    "Separate Features (X) and Labels (y)\n",
    "Assume 'label' column exists (1 = failure, 0 = healthy)"
   ]
  },
  {
   "cell_type": "code",
   "execution_count": null,
   "id": "7ba4eb4a",
   "metadata": {},
   "outputs": [],
   "source": [
    "X = df.drop(columns=['label', 'time'])  # drop label + timestamp\n",
    "y = df['label']\n"
   ]
  },
  {
   "cell_type": "markdown",
   "id": "dadd2fe3",
   "metadata": {},
   "source": [
    "Train-test split (time-based split is even better for PdM, but this is standard)"
   ]
  },
  {
   "cell_type": "code",
   "execution_count": null,
   "id": "f1a624ac",
   "metadata": {},
   "outputs": [],
   "source": [
    "X_train, X_test, y_train, y_test = train_test_split(\n",
    "    X, y, test_size=0.2, random_state=42, stratify=y)"
   ]
  },
  {
   "cell_type": "markdown",
   "id": "ce323bd4",
   "metadata": {},
   "source": [
    "Train XGBoost Model"
   ]
  },
  {
   "cell_type": "code",
   "execution_count": null,
   "id": "aa5ec37e",
   "metadata": {},
   "outputs": [],
   "source": [
    "model = XGBClassifier(\n",
    "    n_estimators=200,\n",
    "    learning_rate=0.05,\n",
    "    max_depth=6,\n",
    "    subsample=0.8,\n",
    "    colsample_bytree=0.8,\n",
    "    scale_pos_weight=(y_train.value_counts()[0] / y_train.value_counts()[1]), # handle imbalance\n",
    "    use_label_encoder=False,\n",
    "    eval_metric=\"logloss\")\n",
    "\n",
    "model.fit(X_train, y_train)"
   ]
  },
  {
   "cell_type": "markdown",
   "id": "f9a62aa8",
   "metadata": {},
   "source": [
    "Evaluate Model"
   ]
  },
  {
   "cell_type": "code",
   "execution_count": null,
   "id": "1afd7801",
   "metadata": {},
   "outputs": [],
   "source": [
    "y_pred = model.predict(X_test)\n",
    "y_proba = model.predict_proba(X_test)[:, 1]\n",
    "\n",
    "print(\"\\nClassification Report:\")\n",
    "print(classification_report(y_test, y_pred))\n",
    "\n",
    "print(\"ROC-AUC:\", roc_auc_score(y_test, y_proba))\n",
    "\n",
    "# Confusion Matrix\n",
    "cm = confusion_matrix(y_test, y_pred)\n",
    "sns.heatmap(cm, annot=True, fmt=\"d\", cmap=\"Blues\", xticklabels=[\"Healthy\", \"Failure\"], yticklabels=[\"Healthy\", \"Failure\"])\n",
    "plt.xlabel(\"Predicted\")\n",
    "plt.ylabel(\"Actual\")\n",
    "plt.title(\"Confusion Matrix\")\n",
    "plt.show()\n",
    "\n",
    "# ROC Curve\n",
    "RocCurveDisplay.from_estimator(model, X_test, y_test)\n",
    "plt.show()"
   ]
  },
  {
   "cell_type": "markdown",
   "id": "9d587917",
   "metadata": {},
   "source": [
    "Feature Importance"
   ]
  },
  {
   "cell_type": "code",
   "execution_count": null,
   "id": "d3034f3e",
   "metadata": {},
   "outputs": [],
   "source": [
    "plot_importance(model, max_num_features=15, importance_type='weight')\n",
    "plt.show()"
   ]
  }
 ],
 "metadata": {
  "kernelspec": {
   "display_name": "base",
   "language": "python",
   "name": "python3"
  },
  "language_info": {
   "name": "python",
   "version": "3.12.7"
  }
 },
 "nbformat": 4,
 "nbformat_minor": 5
}
